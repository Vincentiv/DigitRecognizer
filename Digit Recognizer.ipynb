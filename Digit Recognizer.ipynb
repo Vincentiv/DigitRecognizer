{
 "cells": [
  {
   "cell_type": "code",
   "execution_count": 1,
   "metadata": {},
   "outputs": [],
   "source": [
    "import numpy as np\n",
    "import pandas as pd\n",
    "import os \n",
    "import tensorflow as tf\n",
    "\n",
    "import matplotlib.pyplot as plt\n",
    "import matplotlib.image as mpimg\n",
    "import seaborn as sns\n",
    "%matplotlib inline\n",
    "\n",
    "from tensorflow.python import keras\n",
    "from tensorflow.python.keras.models import Sequential\n",
    "from tensorflow.python.keras.layers import Dense, Flatten, Conv2D, Dropout\n"
   ]
  },
  {
   "cell_type": "raw",
   "metadata": {},
   "source": [
    "# Loading data"
   ]
  },
  {
   "cell_type": "code",
   "execution_count": 2,
   "metadata": {},
   "outputs": [
    {
     "name": "stdout",
     "output_type": "stream",
     "text": [
      "C:\\Users\\Vincent\\PycharmProjects\\Kaggle\\DigitRecognizer\n"
     ]
    }
   ],
   "source": [
    "dir=os.getcwd()\n",
    "print(os.getcwd())\n",
    "\n",
    "X_train = pd.read_csv(os.path.join(dir, \"data/train.csv\")) \n",
    "X_test_file = pd.read_csv(os.path.join(dir, \"data/test.csv\"))\n",
    "\n"
   ]
  },
  {
   "cell_type": "code",
   "execution_count": 20,
   "metadata": {},
   "outputs": [
    {
     "name": "stdout",
     "output_type": "stream",
     "text": [
      "(42000, 785)\n"
     ]
    }
   ],
   "source": [
    "print(X_train.shape)"
   ]
  },
  {
   "cell_type": "code",
   "execution_count": 3,
   "metadata": {
    "scrolled": true
   },
   "outputs": [
    {
     "data": {
      "text/plain": [
       "1    4684\n",
       "7    4401\n",
       "3    4351\n",
       "9    4188\n",
       "2    4177\n",
       "6    4137\n",
       "0    4132\n",
       "4    4072\n",
       "8    4063\n",
       "5    3795\n",
       "Name: label, dtype: int64"
      ]
     },
     "execution_count": 3,
     "metadata": {},
     "output_type": "execute_result"
    },
    {
     "data": {
      "image/png": "[encoded data removed]",
      "text/plain": [
       "<Figure size 432x288 with 1 Axes>"
      ]
     },
     "metadata": {
      "needs_background": "light"
     },
     "output_type": "display_data"
    }
   ],
   "source": [
    "Y_train = X_train[\"label\"]\n",
    "g = sns.countplot(Y_train)\n",
    "\n",
    "Y_train.value_counts()"
   ]
  },
  {
   "cell_type": "code",
   "execution_count": 4,
   "metadata": {},
   "outputs": [
    {
     "data": {
      "text/plain": [
       "count       785\n",
       "unique        1\n",
       "top       False\n",
       "freq        785\n",
       "dtype: object"
      ]
     },
     "execution_count": 4,
     "metadata": {},
     "output_type": "execute_result"
    }
   ],
   "source": [
    "X_train.isnull().any().describe()"
   ]
  },
  {
   "cell_type": "code",
   "execution_count": 5,
   "metadata": {},
   "outputs": [
    {
     "data": {
      "text/plain": [
       "count       784\n",
       "unique        1\n",
       "top       False\n",
       "freq        784\n",
       "dtype: object"
      ]
     },
     "execution_count": 5,
     "metadata": {},
     "output_type": "execute_result"
    }
   ],
   "source": [
    "X_test_file.isnull().any().describe()"
   ]
  },
  {
   "cell_type": "code",
   "execution_count": 6,
   "metadata": {},
   "outputs": [],
   "source": [
    "img_rows,img_cols= 28,28\n",
    "nb_classes=10\n",
    "\n",
    "def data_prep(raw):\n",
    "    out_y=tf.keras.utils.to_categorical(raw.label, nb_classes)\n",
    "    nb_images=raw.shape[0]\n",
    "    x_as_array = raw.values[:,1:]\n",
    "    x_shaped_array = x_as_array.reshape(nb_images, img_rows, img_cols, 1)\n",
    "    out_x = x_shaped_array / 255\n",
    "    return out_x, out_y\n",
    "\n",
    "\n",
    "X,y = data_prep(X_train)\n",
    "\n",
    "\n"
   ]
  },
  {
   "cell_type": "code",
   "execution_count": 21,
   "metadata": {
    "scrolled": true
   },
   "outputs": [
    {
     "name": "stdout",
     "output_type": "stream",
     "text": [
      "Train on 33600 samples, validate on 8400 samples\n",
      "Epoch 1/10\n",
      "33600/33600 [==============================] - 9s 262us/sample - loss: 0.4220 - accuracy: 0.8640 - val_loss: 0.1057 - val_accuracy: 0.9670\n",
      "Epoch 2/10\n",
      "33600/33600 [==============================] - 9s 254us/sample - loss: 0.1188 - accuracy: 0.9635 - val_loss: 0.0644 - val_accuracy: 0.9799\n",
      "Epoch 3/10\n",
      "33600/33600 [==============================] - 8s 253us/sample - loss: 0.0803 - accuracy: 0.9762 - val_loss: 0.0519 - val_accuracy: 0.9842\n",
      "Epoch 4/10\n",
      "33600/33600 [==============================] - 8s 248us/sample - loss: 0.0641 - accuracy: 0.9802 - val_loss: 0.0440 - val_accuracy: 0.9861\n",
      "Epoch 5/10\n",
      "33600/33600 [==============================] - 8s 251us/sample - loss: 0.0532 - accuracy: 0.9833 - val_loss: 0.0382 - val_accuracy: 0.9879\n",
      "Epoch 6/10\n",
      "33600/33600 [==============================] - 8s 252us/sample - loss: 0.0468 - accuracy: 0.9857 - val_loss: 0.0351 - val_accuracy: 0.9883\n",
      "Epoch 7/10\n",
      "33600/33600 [==============================] - 8s 251us/sample - loss: 0.0377 - accuracy: 0.9888 - val_loss: 0.0338 - val_accuracy: 0.9898\n",
      "Epoch 8/10\n",
      "33600/33600 [==============================] - 9s 256us/sample - loss: 0.0368 - accuracy: 0.9878 - val_loss: 0.0342 - val_accuracy: 0.9904\n",
      "Epoch 9/10\n",
      "33600/33600 [==============================] - 9s 253us/sample - loss: 0.0352 - accuracy: 0.9891 - val_loss: 0.0334 - val_accuracy: 0.9913\n",
      "Epoch 10/10\n",
      "33600/33600 [==============================] - 8s 251us/sample - loss: 0.0310 - accuracy: 0.9900 - val_loss: 0.0394 - val_accuracy: 0.9892\n"
     ]
    },
    {
     "data": {
      "text/plain": [
       "<tensorflow.python.keras.callbacks.History at 0x16d14a4a308>"
      ]
     },
     "execution_count": 21,
     "metadata": {},
     "output_type": "execute_result"
    }
   ],
   "source": [
    "model=Sequential()\n",
    "\n",
    "\n",
    "model.add(Conv2D(32, kernel_size=(5, 5), strides=2, activation='relu',input_shape=(img_rows, img_cols, 1)))\n",
    "model.add(Conv2D(32, kernel_size=(5, 5), activation='relu'))\n",
    "model.add(Dropout(0.25))\n",
    "model.add(Conv2D(64, kernel_size=(3, 3), activation='relu'))\n",
    "model.add(Conv2D(64, kernel_size=(3, 3), activation='relu'))\n",
    "model.add(Dropout(0.25))\n",
    "\n",
    "model.add(Flatten())\n",
    "model.add(Dense(256, activation='relu'))\n",
    "model.add(Dropout(0.5))\n",
    "model.add(Dense(nb_classes, activation='softmax'))\n",
    "\n",
    "model.compile(loss=keras.losses.categorical_crossentropy,optimizer='adam',metrics=['accuracy'])\n",
    "model.fit(X, y,batch_size=100,epochs=10,validation_split = 0.2)\n"
   ]
  },
  {
   "cell_type": "code",
   "execution_count": 36,
   "metadata": {},
   "outputs": [],
   "source": [
    "from tensorflow.python.keras.preprocessing.image import ImageDataGenerator\n",
    "\n",
    "datagen = ImageDataGenerator(\n",
    "        featurewise_center=False,  # set input mean to 0 over the dataset\n",
    "        samplewise_center=False,  # set each sample mean to 0\n",
    "        featurewise_std_normalization=False,  # divide inputs by std of the dataset\n",
    "        samplewise_std_normalization=False,  # divide each input by its std\n",
    "        zca_whitening=False,  # apply ZCA whitening\n",
    "        rotation_range=10,  # randomly rotate images in the range (degrees, 0 to 180)\n",
    "        zoom_range = 0.1, # Randomly zoom image \n",
    "        width_shift_range=0.1,  # randomly shift images horizontally (fraction of total width)\n",
    "        height_shift_range=0.1,  # randomly shift images vertically (fraction of total height)\n",
    "        horizontal_flip=False,  # randomly flip images\n",
    "        vertical_flip=False)  # randomly flip images\n",
    "\n",
    "\n",
    "datagen.fit(X)"
   ]
  },
  {
   "cell_type": "code",
   "execution_count": null,
   "metadata": {},
   "outputs": [],
   "source": [
    "#history = model.fit_generator(datagen.flow(X,y, batch_size=100),\n",
    "#                              epochs = 100, validation_data = (X_val,Y_val),\n",
    "#                              verbose = 2, steps_per_epoch=X_train.shape[0] // batch_size\n",
    "#                              , callbacks=[learning_rate_reduction])"
   ]
  },
  {
   "cell_type": "code",
   "execution_count": 28,
   "metadata": {},
   "outputs": [],
   "source": [
    "nb_images=X_test_file.shape[0]\n",
    "X_as_array = X_test_file.values[:,:]\n",
    "X_test = X_as_array.reshape(nb_images, img_rows, img_cols, 1) / 255\n",
    "\n",
    "\n",
    "results = model.predict(X_test)"
   ]
  },
  {
   "cell_type": "code",
   "execution_count": 29,
   "metadata": {},
   "outputs": [
    {
     "name": "stdout",
     "output_type": "stream",
     "text": [
      "[9.3396096e-11 8.1299741e-12 1.0000000e+00 3.2349573e-10 2.2119950e-13\n",
      " 2.6126420e-14 2.3525016e-13 2.4510418e-11 2.1891518e-11 2.3258858e-15]\n",
      "28000\n"
     ]
    }
   ],
   "source": [
    "print(results[0])\n",
    "print(nb_images)\n"
   ]
  },
  {
   "cell_type": "code",
   "execution_count": 30,
   "metadata": {},
   "outputs": [],
   "source": [
    "# select the indix with the maximum probability\n",
    "results_modified = np.argmax(results,axis = 1)\n",
    "\n",
    "results_series = pd.Series(results_modified,name=\"Label\")\n"
   ]
  },
  {
   "cell_type": "code",
   "execution_count": 31,
   "metadata": {},
   "outputs": [
    {
     "name": "stdout",
     "output_type": "stream",
     "text": [
      "0        2\n",
      "1        0\n",
      "2        9\n",
      "3        0\n",
      "4        3\n",
      "        ..\n",
      "27995    9\n",
      "27996    7\n",
      "27997    3\n",
      "27998    9\n",
      "27999    2\n",
      "Name: Label, Length: 28000, dtype: int64\n"
     ]
    }
   ],
   "source": [
    "print(results_series)"
   ]
  },
  {
   "cell_type": "code",
   "execution_count": 32,
   "metadata": {},
   "outputs": [],
   "source": [
    "submission = pd.concat([pd.Series(range(1,28001),name = \"ImageId\"),results_series],axis = 1)\n",
    "\n",
    "submission.to_csv(\"cnn_mnist_datagen.csv\",index=False)"
   ]
  },
  {
   "cell_type": "code",
   "execution_count": null,
   "metadata": {},
   "outputs": [],
   "source": []
  }
 ],
 "metadata": {
  "kernelspec": {
   "display_name": "Python 3",
   "language": "python",
   "name": "python3"
  },
  "language_info": {
   "codemirror_mode": {
    "name": "ipython",
    "version": 3
   },
   "file_extension": ".py",
   "mimetype": "text/x-python",
   "name": "python",
   "nbconvert_exporter": "python",
   "pygments_lexer": "ipython3",
   "version": "3.7.4"
  }
 },
 "nbformat": 4,
 "nbformat_minor": 2
}
